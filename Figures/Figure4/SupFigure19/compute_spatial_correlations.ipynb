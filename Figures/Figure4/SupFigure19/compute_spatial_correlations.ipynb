{
 "cells": [
  {
   "cell_type": "markdown",
   "id": "77028865",
   "metadata": {},
   "source": [
    "This notebook demonstrates computation of spatial cross-correlations between spatial samples"
   ]
  },
  {
   "cell_type": "code",
   "execution_count": 6,
   "id": "b6f7d615",
   "metadata": {},
   "outputs": [],
   "source": [
    "import anndata as ad\n",
    "import scanpy as sc\n",
    "import pandas as pd\n",
    "\n",
    "import spatial_correlation as sp_corr"
   ]
  },
  {
   "cell_type": "markdown",
   "id": "a7b7096d",
   "metadata": {},
   "source": [
    "### Load AnnData of lung spatial slides annotated by IRIS domains and a csv with cell type proportions (IRIS deconvolution)"
   ]
  },
  {
   "cell_type": "code",
   "execution_count": 4,
   "id": "3908a94f",
   "metadata": {},
   "outputs": [],
   "source": [
    "# load data\n",
    "lung_A = ad.read_h5ad('../data/annotated_slice1_NEW.h5ad')\n",
    "lung_B = ad.read_h5ad('../data/annotated_slice2_NEW.h5ad')\n",
    "lung_C = ad.read_h5ad('../data/annotated_slice3_NEW.h5ad')\n",
    "lung_D = ad.read_h5ad('../data/annotated_slice4_NEW.h5ad')\n",
    "\n",
    "\n",
    "sc.pp.normalize_total(lung_A, target_sum=1e4)\n",
    "sc.pp.log1p(lung_A)\n",
    "\n",
    "sc.pp.normalize_total(lung_B, target_sum=1e4)\n",
    "sc.pp.log1p(lung_B)\n",
    "\n",
    "sc.pp.normalize_total(lung_C, target_sum=1e4)\n",
    "sc.pp.log1p(lung_C)\n",
    "\n",
    "sc.pp.normalize_total(lung_D, target_sum=1e4)\n",
    "sc.pp.log1p(lung_D)"
   ]
  },
  {
   "cell_type": "code",
   "execution_count": 9,
   "id": "e556bea1",
   "metadata": {},
   "outputs": [
    {
     "name": "stdout",
     "output_type": "stream",
     "text": [
      "Sample names:  ['LNEN071-IARC-A' 'LNEN084-IARC-B' 'LNEN107-IARC-C' 'LNEN206-IARC-D']\n"
     ]
    }
   ],
   "source": [
    "IRIS_df = pd.read_csv('../cellchat/IRIS proportions/IRIS_proportions_NEW.csv')\n",
    "\n",
    "# separate IRIS data by slices\n",
    "sample_names = IRIS_df[\"Slice\"].unique()\n",
    "print(\"Sample names: \", sample_names)\n",
    "\n",
    "IRIS_prop1 = IRIS_df[IRIS_df[\"Slice\"]==sample_names[0]]\n",
    "IRIS_prop2 = IRIS_df[IRIS_df[\"Slice\"]==sample_names[1]]\n",
    "IRIS_prop3 = IRIS_df[IRIS_df[\"Slice\"]==sample_names[2]]\n",
    "IRIS_prop4 = IRIS_df[IRIS_df[\"Slice\"]==sample_names[3]]\n",
    "\n",
    "# set index as spot barcode for concatenation\n",
    "IRIS_prop1.set_index(\"spotName\", inplace=True)\n",
    "IRIS_prop2.set_index(\"spotName\", inplace=True)\n",
    "IRIS_prop3.set_index(\"spotName\", inplace=True)\n",
    "IRIS_prop4.set_index(\"spotName\", inplace=True)\n"
   ]
  },
  {
   "cell_type": "markdown",
   "id": "b6b6a63a",
   "metadata": {},
   "source": [
    "#### Compute spatial correlations for cell type proportions and expression of signalling genes"
   ]
  },
  {
   "cell_type": "code",
   "execution_count": null,
   "id": "de90095f",
   "metadata": {},
   "outputs": [],
   "source": [
    "cell_types = ['Lower Airway Progenitor', 'Neuroendocrine CALCA+',\n",
    "       'Neuroendocrine NEUROD1+', \"Club\", 'Macrophage', 'Macrophage_proliferating',\n",
    "       'Myofibro', 'Fibro', 'T_conv', 'T_CD8', 'T/NK_proliferating']\n",
    "\n",
    "genes = ['LPCAT1', 'SCGB3A2', 'GPRC5A', \"MIF\", 'CD74', 'CD44', 'CXCR4', 'COL1A1', 'COL1A2', 'ICAM1', 'ITGB2', 'ITGAX']"
   ]
  },
  {
   "cell_type": "code",
   "execution_count": 25,
   "id": "23df833c",
   "metadata": {},
   "outputs": [],
   "source": [
    "# prepare correct anndata object\n",
    "adata_mix_A = sp_corr.make_adata_mixed_bv(lung_A, IRIS_prop1, genes, cell_types)\n",
    "adata_mix_B = sp_corr.make_adata_mixed_bv(lung_B, IRIS_prop2, genes, cell_types)\n",
    "adata_mix_C = sp_corr.make_adata_mixed_bv(lung_C, IRIS_prop3, genes, cell_types)\n",
    "adata_mix_D = sp_corr.make_adata_mixed_bv(lung_D, IRIS_prop4, genes, cell_types)"
   ]
  },
  {
   "cell_type": "code",
   "execution_count": null,
   "id": "41758068",
   "metadata": {},
   "outputs": [
    {
     "name": "stdout",
     "output_type": "stream",
     "text": [
      "Step  0 / 12\n",
      "Step  1 / 12\n",
      "Step  2 / 12\n",
      "Step  3 / 12\n",
      "Step  4 / 12\n",
      "Step  5 / 12\n",
      "Step  6 / 12\n",
      "Step  7 / 12\n",
      "Step  8 / 12\n",
      "Step  9 / 12\n",
      "Step  10 / 12\n",
      "Step  11 / 12\n"
     ]
    }
   ],
   "source": [
    "# corelation genes-proportions\n",
    "corr_bv_A, p_bv_A = sp_corr.compute_spatial_corr_mix(adata_mix_A, cell_types, genes)\n",
    "corr_bv_B, p_bv_B = sp_corr.compute_spatial_corr_mix(adata_mix_B, cell_types, genes)\n",
    "corr_bv_C, p_bv_C = sp_corr.compute_spatial_corr_mix(adata_mix_C, cell_types, genes)\n",
    "corr_bv_D, p_bv_D = sp_corr.compute_spatial_corr_mix(adata_mix_D, cell_types, genes)\n"
   ]
  },
  {
   "cell_type": "code",
   "execution_count": null,
   "id": "cbef0104",
   "metadata": {},
   "outputs": [],
   "source": [
    "# save computed matrices in .csv\n",
    "corr_mat_list = [corr_bv_A, corr_bv_B, corr_bv_C, corr_bv_D]\n",
    "p_val_list = [p_bv_A, p_bv_B, p_bv_C, p_bv_D]\n",
    "\n",
    "for i in range(4):\n",
    "    df_corr = pd.DataFrame(corr_mat_list[i], columns=cell_types, index=genes)\n",
    "    df_pval = pd.DataFrame(p_val_list[i], columns=cell_types, index=genes)\n",
    "    df_corr.to_csv(f'../results/correlation tables/Corr_genes_types{i}_NEW.csv')\n",
    "    df_pval.to_csv(f'../results/correlation tables/Pval_genes_types{i}_NEW.csv')\n",
    "    \n",
    "    with pd.ExcelWriter(f'../results/correlation tables/Corr_genes_types{i}_NEW.xlsx', engine=\"openpyxl\") as writer:  \n",
    "        df_corr.to_excel(writer, sheet_name='Correlation')\n",
    "    with pd.ExcelWriter(f'../results/correlation tables/Pval_genes_types{i}_NEW.xlsx', engine=\"openpyxl\") as writer:\n",
    "        df_pval.to_excel(writer, sheet_name='Pval')\n",
    "\n"
   ]
  },
  {
   "cell_type": "markdown",
   "id": "32c20820",
   "metadata": {},
   "source": [
    "#### Compute spatial correlations between cell type proportions"
   ]
  },
  {
   "cell_type": "code",
   "execution_count": 19,
   "id": "4726663d",
   "metadata": {},
   "outputs": [
    {
     "name": "stdout",
     "output_type": "stream",
     "text": [
      "Step  0 / 11\n",
      "Step  1 / 11\n",
      "Step  2 / 11\n",
      "Step  3 / 11\n",
      "Step  4 / 11\n",
      "Step  5 / 11\n",
      "Step  6 / 11\n",
      "Step  7 / 11\n",
      "Step  8 / 11\n",
      "Step  9 / 11\n",
      "Step  10 / 11\n",
      "Step  0 / 11\n",
      "Step  1 / 11\n",
      "Step  2 / 11\n",
      "Step  3 / 11\n",
      "Step  4 / 11\n",
      "Step  5 / 11\n",
      "Step  6 / 11\n",
      "Step  7 / 11\n",
      "Step  8 / 11\n",
      "Step  9 / 11\n",
      "Step  10 / 11\n",
      "Step  0 / 11\n",
      "Step  1 / 11\n",
      "Step  2 / 11\n",
      "Step  3 / 11\n",
      "Step  4 / 11\n",
      "Step  5 / 11\n",
      "Step  6 / 11\n",
      "Step  7 / 11\n",
      "Step  8 / 11\n",
      "Step  9 / 11\n",
      "Step  10 / 11\n",
      "Step  0 / 11\n",
      "Step  1 / 11\n",
      "Step  2 / 11\n",
      "Step  3 / 11\n",
      "Step  4 / 11\n",
      "Step  5 / 11\n",
      "Step  6 / 11\n",
      "Step  7 / 11\n",
      "Step  8 / 11\n",
      "Step  9 / 11\n",
      "Step  10 / 11\n"
     ]
    }
   ],
   "source": [
    "# correlation between ct proportions\n",
    "print(\"Slice 1\\n\")\n",
    "corr_bv1, p_bv1 = sp_corr.compute_spatial_corr(adata_mix_A, cell_types)\n",
    "print(\"Slice 2\\n\")\n",
    "corr_bv2, p_bv2 = sp_corr.compute_spatial_corr(adata_mix_B, cell_types)\n",
    "print(\"Slice 3\\n\")\n",
    "corr_bv3, p_bv3 = sp_corr.compute_spatial_corr(adata_mix_C, cell_types)\n",
    "print(\"Slice 4\\n\")\n",
    "corr_bv4, p_bv4 = sp_corr.compute_spatial_corr(adata_mix_D, cell_types)"
   ]
  },
  {
   "cell_type": "code",
   "execution_count": 24,
   "id": "2c7b6b8d",
   "metadata": {},
   "outputs": [],
   "source": [
    "# save correlation coefficients and p-values to excel table\n",
    "corr_mat_list = [corr_bv1, corr_bv2, corr_bv3, corr_bv4]\n",
    "p_val_list = [p_bv1, p_bv2, p_bv3, p_bv4]\n",
    "\n",
    "for i in range(4):\n",
    "    df_corr = pd.DataFrame(corr_mat_list[i], columns=cell_types, index=cell_types)\n",
    "    df_pval = pd.DataFrame(p_val_list[i], columns=cell_types, index=cell_types)\n",
    "    df_corr.to_csv(f'../results/correlation tables/Corr_{i}_NEW.csv')\n",
    "    df_pval.to_csv(f'../results/correlation tables/Pval_{i}_NEW.csv')\n",
    "    with pd.ExcelWriter(f'../results/correlation tables/Corr_{i}_NEW.xlsx', engine=\"openpyxl\") as writer:  \n",
    "        df_corr.to_excel(writer, sheet_name='Correlation')\n",
    "    with pd.ExcelWriter(f'../results/correlation tables/Pval_{i}_NEW.xlsx', engine=\"openpyxl\") as writer:\n",
    "        df_pval.to_excel(writer, sheet_name='Pval')\n"
   ]
  },
  {
   "cell_type": "markdown",
   "id": "ed1798e9",
   "metadata": {},
   "source": []
  },
  {
   "cell_type": "code",
   "execution_count": null,
   "id": "52b8557d",
   "metadata": {},
   "outputs": [],
   "source": []
  }
 ],
 "metadata": {
  "kernelspec": {
   "display_name": "Python 3",
   "language": "python",
   "name": "python3"
  },
  "language_info": {
   "codemirror_mode": {
    "name": "ipython",
    "version": 3
   },
   "file_extension": ".py",
   "mimetype": "text/x-python",
   "name": "python",
   "nbconvert_exporter": "python",
   "pygments_lexer": "ipython3",
   "version": "3.11.9"
  }
 },
 "nbformat": 4,
 "nbformat_minor": 5
}

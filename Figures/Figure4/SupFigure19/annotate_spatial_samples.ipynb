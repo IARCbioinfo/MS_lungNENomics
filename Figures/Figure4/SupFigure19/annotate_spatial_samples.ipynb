{
 "cells": [
  {
   "cell_type": "code",
   "execution_count": 11,
   "id": "0ddd7f97",
   "metadata": {},
   "outputs": [],
   "source": [
    "import anndata as ad\n",
    "import numpy as np\n",
    "import pandas as pd\n",
    "import matplotlib.pyplot as plt\n",
    "import scanpy as sc\n",
    "import copy"
   ]
  },
  {
   "cell_type": "code",
   "execution_count": 12,
   "id": "c44e80f4",
   "metadata": {},
   "outputs": [],
   "source": [
    "# load sptial anndata object\n",
    "lung_A = ad.read_h5ad('../data/OneDrive_1_04-11-2024/adata_LNEN071-IARC-A_scanpy_06052024.h5ad')\n",
    "\n",
    "lung_B = ad.read_h5ad('../data/OneDrive_1_04-11-2024/adata_LNEN084-IARC-B_scanpy_06052024.h5ad')\n",
    "\n",
    "lung_C= ad.read_h5ad('../data/OneDrive_1_04-11-2024/adata_LNEN107-IARC-C_scanpy_06052024.h5ad')\n",
    "\n",
    "lung_D= ad.read_h5ad('../data/OneDrive_1_04-11-2024/adata_LNEN206-IARC-D_scanpy_06052024.h5ad')"
   ]
  },
  {
   "cell_type": "code",
   "execution_count": 3,
   "id": "f4070b11",
   "metadata": {},
   "outputs": [
    {
     "data": {
      "text/html": [
       "<div>\n",
       "<style scoped>\n",
       "    .dataframe tbody tr th:only-of-type {\n",
       "        vertical-align: middle;\n",
       "    }\n",
       "\n",
       "    .dataframe tbody tr th {\n",
       "        vertical-align: top;\n",
       "    }\n",
       "\n",
       "    .dataframe thead th {\n",
       "        text-align: right;\n",
       "    }\n",
       "</style>\n",
       "<table border=\"1\" class=\"dataframe\">\n",
       "  <thead>\n",
       "    <tr style=\"text-align: right;\">\n",
       "      <th></th>\n",
       "      <th>Slice</th>\n",
       "      <th>spotName</th>\n",
       "      <th>x</th>\n",
       "      <th>y</th>\n",
       "      <th>IRIS_domain</th>\n",
       "    </tr>\n",
       "  </thead>\n",
       "  <tbody>\n",
       "    <tr>\n",
       "      <th>0</th>\n",
       "      <td>LNEN071-IARC-A</td>\n",
       "      <td>AAACAAGTATCTCCCA-1</td>\n",
       "      <td>1125</td>\n",
       "      <td>745</td>\n",
       "      <td>9</td>\n",
       "    </tr>\n",
       "    <tr>\n",
       "      <th>1</th>\n",
       "      <td>LNEN071-IARC-A</td>\n",
       "      <td>AAACACCAATAACTGC-1</td>\n",
       "      <td>819</td>\n",
       "      <td>2342</td>\n",
       "      <td>5</td>\n",
       "    </tr>\n",
       "    <tr>\n",
       "      <th>2</th>\n",
       "      <td>LNEN071-IARC-A</td>\n",
       "      <td>AAACAGAGCGACTCCT-1</td>\n",
       "      <td>2331</td>\n",
       "      <td>902</td>\n",
       "      <td>1</td>\n",
       "    </tr>\n",
       "    <tr>\n",
       "      <th>3</th>\n",
       "      <td>LNEN071-IARC-A</td>\n",
       "      <td>AAACAGGGTCTATATT-1</td>\n",
       "      <td>1220</td>\n",
       "      <td>2459</td>\n",
       "      <td>15</td>\n",
       "    </tr>\n",
       "    <tr>\n",
       "      <th>4</th>\n",
       "      <td>LNEN071-IARC-A</td>\n",
       "      <td>AAACAGTGTTCCTGGG-1</td>\n",
       "      <td>351</td>\n",
       "      <td>1878</td>\n",
       "      <td>4</td>\n",
       "    </tr>\n",
       "  </tbody>\n",
       "</table>\n",
       "</div>"
      ],
      "text/plain": [
       "            Slice            spotName     x     y  IRIS_domain\n",
       "0  LNEN071-IARC-A  AAACAAGTATCTCCCA-1  1125   745            9\n",
       "1  LNEN071-IARC-A  AAACACCAATAACTGC-1   819  2342            5\n",
       "2  LNEN071-IARC-A  AAACAGAGCGACTCCT-1  2331   902            1\n",
       "3  LNEN071-IARC-A  AAACAGGGTCTATATT-1  1220  2459           15\n",
       "4  LNEN071-IARC-A  AAACAGTGTTCCTGGG-1   351  1878            4"
      ]
     },
     "execution_count": 3,
     "metadata": {},
     "output_type": "execute_result"
    }
   ],
   "source": [
    "# load IRIS annotation by spatial domain\n",
    "iris_annot = pd.read_csv('../data/iris_annotations_NEW.csv')\n",
    "iris_annot.head()"
   ]
  },
  {
   "cell_type": "code",
   "execution_count": 4,
   "id": "c0e8e7c4",
   "metadata": {},
   "outputs": [],
   "source": [
    "def process_iris(iris_annot, slice):\n",
    "    \"\"\"Filter annotations to use only one slice.\"\"\"\n",
    "    \n",
    "    iris_annot_slice = iris_annot.copy()\n",
    "    iris_annot_slice = iris_annot_slice[iris_annot_slice[\"Slice\"] == slice]\n",
    "    \n",
    "    iris_annot_slice.set_index(\"spotName\", inplace = True)\n",
    "    iris_annot_slice.index.name = None\n",
    "\n",
    "    iris_annot_slice = iris_annot_slice[[\"Slice\", \"x\", \"y\", \"IRIS_domain\"]]\n",
    "\n",
    "    iris_annot_slice[\"IRIS_domain\"] = iris_annot_slice[\"IRIS_domain\"].astype(\"string\")\n",
    "\n",
    "    return iris_annot_slice"
   ]
  },
  {
   "cell_type": "code",
   "execution_count": 7,
   "id": "04aa832d",
   "metadata": {},
   "outputs": [
    {
     "name": "stdout",
     "output_type": "stream",
     "text": [
      "                             Slice     x     y IRIS_domain\n",
      "AAACAAGTATCTCCCA-1  LNEN071-IARC-A  1125   745           9\n",
      "AAACACCAATAACTGC-1  LNEN071-IARC-A   819  2342           5\n",
      "AAACAGAGCGACTCCT-1  LNEN071-IARC-A  2331   902           1\n",
      "AAACAGGGTCTATATT-1  LNEN071-IARC-A  1220  2459          15\n",
      "AAACAGTGTTCCTGGG-1  LNEN071-IARC-A   351  1878           4\n",
      "                             Slice     x     y IRIS_domain\n",
      "AAACAAGTATCTCCCA-1  LNEN084-IARC-B  1125   772           7\n",
      "AAACAATCTACTAGCA-1  LNEN084-IARC-B  2696  1913           7\n",
      "AAACACCAATAACTGC-1  LNEN084-IARC-B   818  2369          11\n",
      "AAACAGAGCGACTCCT-1  LNEN084-IARC-B  2331   930           7\n",
      "AAACAGGGTCTATATT-1  LNEN084-IARC-B  1220  2486          11\n",
      "                             Slice     x     y IRIS_domain\n",
      "AAACAAGTATCTCCCA-1  LNEN107-IARC-C  1111   741          12\n",
      "AAACAGAGCGACTCCT-1  LNEN107-IARC-C  2317   898          18\n",
      "AAACAGCTTTCAGAAG-1  LNEN107-IARC-C  1340  2532          19\n",
      "AAACAGGGTCTATATT-1  LNEN107-IARC-C  1207  2455          19\n",
      "AAACAGTGTTCCTGGG-1  LNEN107-IARC-C   337  1875          18\n",
      "                             Slice     x     y IRIS_domain\n",
      "AAACAAGTATCTCCCA-1  LNEN206-IARC-D  1117   742          17\n",
      "AAACACCAATAACTGC-1  LNEN206-IARC-D   810  2340          17\n",
      "AAACAGAGCGACTCCT-1  LNEN206-IARC-D  2323   900          16\n",
      "AAACATTTCCCGGATT-1  LNEN206-IARC-D   748   837          16\n",
      "AAACCGGGTAGGTACC-1  LNEN206-IARC-D  1381  2168          16\n"
     ]
    }
   ],
   "source": [
    "iris_annot_slice_A = process_iris(iris_annot, \"LNEN071-IARC-A\")\n",
    "print(iris_annot_slice_A.head())\n",
    "\n",
    "iris_annot_slice_B = process_iris(iris_annot, \"LNEN084-IARC-B\")\n",
    "print(iris_annot_slice_B.head())\n",
    "\n",
    "iris_annot_slice_C = process_iris(iris_annot, \"LNEN107-IARC-C\")\n",
    "print(iris_annot_slice_C.head())\n",
    "\n",
    "iris_annot_slice_D = process_iris(iris_annot, \"LNEN206-IARC-D\")\n",
    "print(iris_annot_slice_D.head())"
   ]
  },
  {
   "cell_type": "code",
   "execution_count": 8,
   "id": "440d61d9",
   "metadata": {},
   "outputs": [],
   "source": [
    "def add_iris_annot(adata, iris_annot_slice):\n",
    "    \"\"\"Add iris metadata to the adata.obs. Create new anndata object with only necessary metadata in .obs.\"\"\"\n",
    "    adata_annot_obs = adata.obs.join(iris_annot_slice)\n",
    "    adata_obs = copy.deepcopy(adata_annot_obs)\n",
    "    adata_obs = adata_obs[[\"in_tissue\", \"Slice\", \"x\", \"y\", \"IRIS_domain\"]]\n",
    "    \n",
    "    adata_annot = adata.copy()\n",
    "    adata_annot.obs = adata_obs\n",
    "\n",
    "    return adata_annot"
   ]
  },
  {
   "cell_type": "code",
   "execution_count": 9,
   "id": "04282859",
   "metadata": {},
   "outputs": [],
   "source": [
    "lung_A_annot = add_iris_annot(lung_A, iris_annot_slice_A)\n",
    "lung_B_annot = add_iris_annot(lung_B, iris_annot_slice_B)\n",
    "lung_C_annot = add_iris_annot(lung_C, iris_annot_slice_C)\n",
    "lung_D_annot = add_iris_annot(lung_D, iris_annot_slice_D)"
   ]
  },
  {
   "cell_type": "code",
   "execution_count": 10,
   "id": "406306b2",
   "metadata": {},
   "outputs": [],
   "source": [
    "# save the annotated data\n",
    "lung_A_annot.write(\"../data/annotated_slice1_NEW.h5ad\", compression=\"gzip\")\n",
    "lung_B_annot.write(\"../data/annotated_slice2_NEW.h5ad\", compression=\"gzip\")\n",
    "lung_C_annot.write(\"../data/annotated_slice3_NEW.h5ad\", compression=\"gzip\")\n",
    "lung_D_annot.write(\"../data/annotated_slice4_NEW.h5ad\", compression=\"gzip\")"
   ]
  }
 ],
 "metadata": {
  "kernelspec": {
   "display_name": "Python 3",
   "language": "python",
   "name": "python3"
  },
  "language_info": {
   "codemirror_mode": {
    "name": "ipython",
    "version": 3
   },
   "file_extension": ".py",
   "mimetype": "text/x-python",
   "name": "python",
   "nbconvert_exporter": "python",
   "pygments_lexer": "ipython3",
   "version": "3.11.9"
  }
 },
 "nbformat": 4,
 "nbformat_minor": 5
}
